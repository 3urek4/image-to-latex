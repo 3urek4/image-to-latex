{
 "metadata": {
  "language_info": {
   "codemirror_mode": {
    "name": "ipython",
    "version": 3
   },
   "file_extension": ".py",
   "mimetype": "text/x-python",
   "name": "python",
   "nbconvert_exporter": "python",
   "pygments_lexer": "ipython3",
   "version": 3
  },
  "orig_nbformat": 2
 },
 "nbformat": 4,
 "nbformat_minor": 2,
 "cells": [
  {
   "source": [
    "# Training in Google Colab"
   ],
   "cell_type": "markdown",
   "metadata": {}
  },
  {
   "source": [
    "Choose Runtime > Change Runtime type > GPU from the menu. Run the following cell to confirm that your notebook has been connected to a GPU."
   ],
   "cell_type": "markdown",
   "metadata": {}
  },
  {
   "cell_type": "code",
   "execution_count": null,
   "metadata": {},
   "outputs": [],
   "source": [
    "!nvidia-smi"
   ]
  },
  {
   "source": [
    "Clone the repository and ``cd`` into it."
   ],
   "cell_type": "markdown",
   "metadata": {}
  },
  {
   "cell_type": "code",
   "execution_count": null,
   "metadata": {},
   "outputs": [],
   "source": [
    "!git clone https://github.com/kingyiusuen/image-to-latex.git\n",
    "%cd image-to-latex\n",
    "%env PYTHONPATH=.:$PYTHONPATH"
   ]
  },
  {
   "source": [
    "Install dependencies."
   ],
   "cell_type": "markdown",
   "metadata": {}
  },
  {
   "cell_type": "code",
   "execution_count": null,
   "metadata": {},
   "outputs": [],
   "source": [
    "!pip install -e . --no-cache-dir"
   ]
  },
  {
   "source": [
    "Run the following cell to download the dataset and start training. Modify the value of the hyperparameters as desired. If the ``use-wandb`` flag is used, you will be promopted to log in to your Weights & Biases account."
   ],
   "cell_type": "markdown",
   "metadata": {}
  },
  {
   "cell_type": "code",
   "execution_count": null,
   "metadata": {},
   "outputs": [],
   "source": [
    "!image-to-latex train --use-wandb --save-best-model --use-scheduler --max-lr -1 --batch-size 128 --num-workers 2 --patience 10 --max-epochs 30 --resnet-layers 3 --tf-dim 128 --tf-fc-dim 256 --tf-layers 4 --tf-dropout 0.2 -- beam-width 1"
   ]
  }
 ]
}